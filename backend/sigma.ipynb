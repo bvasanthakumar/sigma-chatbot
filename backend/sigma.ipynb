{
 "cells": [
  {
   "cell_type": "code",
   "execution_count": 5,
   "metadata": {},
   "outputs": [
    {
     "name": "stdout",
     "output_type": "stream",
     "text": [
      "         Date  Product_ID                  Product_Name     Category Region  \\\n",
      "0  2023-01-01     4002250  AQUAFILL WALLFILLER FINE NEW  Wall Filler   West   \n",
      "1  2023-01-01  7000002250           S TEXTURED MP WHITE        Paint  North   \n",
      "2  2023-01-01  7000002150    S ACRYLIC PRI SEALER WHITE       Primer  North   \n",
      "3  2023-01-01  9989092196     S'DUR FIN HG LK SET BAS L      Lacquer   East   \n",
      "4  2023-01-01  9192002200                 THINNER 91-92      Thinner   East   \n",
      "\n",
      "   BOM_Usage_Frequency  Quantity_Sold  Liters_Sold      Revenue         Cost  \\\n",
      "0                    4             37    40.980482  2508.355812  1645.576499   \n",
      "1                   17             17    24.663603  1654.306539  1280.533499   \n",
      "2                    3             42    79.775840  4934.967356  2630.655244   \n",
      "3                   18             38    75.454821  5790.449107  2975.293105   \n",
      "4                    3             35    30.692030  3345.116896  2555.738187   \n",
      "\n",
      "  Customer_ID Customer_Name Order_ID  Order_Date Delivery_Date  \\\n",
      "0     CUST105    Customer_5  ORD5238  2023-01-01    2023-01-08   \n",
      "1     CUST106    Customer_6  ORD8630  2023-01-01    2023-01-03   \n",
      "2     CUST100    Customer_0  ORD9509  2023-01-01    2023-01-10   \n",
      "3     CUST106    Customer_6  ORD6429  2023-01-01    2023-01-04   \n",
      "4     CUST101    Customer_1  ORD3111  2023-01-01    2023-01-06   \n",
      "\n",
      "   Monthly_Production_Liters  Seasonal_Sales_Spike  Price_Change  \n",
      "0                        518                     0           0.0  \n",
      "1                       3510                     0           0.0  \n",
      "2                       1804                     0           0.0  \n",
      "3                        662                     0           0.0  \n",
      "4                       4700                     0           0.0  \n"
     ]
    }
   ],
   "source": [
    "#load the data to Database\n",
    "import pandas as pd\n",
    "import sqlite3\n",
    "\n",
    "excel_file_path = 'product_sales_dataset_detailed.csv'\n",
    "excel_df = pd.read_csv(excel_file_path)\n",
    "\n",
    "db = sqlite3.connect('sigma_chatbot.db')\n",
    "\n",
    "excel_df.to_sql('sigma_chat', db, if_exists='replace', index=False)\n",
    "\n",
    "query = pd.read_sql('SELECT * FROM sigma_chat LIMIT 5;', db)\n",
    "print(query)\n",
    "\n",
    "db.close()\n"
   ]
  },
  {
   "cell_type": "code",
   "execution_count": null,
   "metadata": {},
   "outputs": [],
   "source": []
  }
 ],
 "metadata": {
  "kernelspec": {
   "display_name": "Python 3",
   "language": "python",
   "name": "python3"
  },
  "language_info": {
   "codemirror_mode": {
    "name": "ipython",
    "version": 3
   },
   "file_extension": ".py",
   "mimetype": "text/x-python",
   "name": "python",
   "nbconvert_exporter": "python",
   "pygments_lexer": "ipython3",
   "version": "3.10.0"
  }
 },
 "nbformat": 4,
 "nbformat_minor": 2
}
